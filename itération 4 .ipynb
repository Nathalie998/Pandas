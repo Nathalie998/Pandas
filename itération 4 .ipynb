{
 "cells": [
  {
   "cell_type": "code",
   "execution_count": 1,
   "id": "0929ab6d",
   "metadata": {},
   "outputs": [
    {
     "name": "stdout",
     "output_type": "stream",
     "text": [
      "Collecting folium\n",
      "  Downloading folium-0.19.5-py2.py3-none-any.whl (110 kB)\n",
      "     ---------------------------------------- 0.0/110.9 kB ? eta -:--:--\n",
      "     -------------------------------------- 110.9/110.9 kB 6.3 MB/s eta 0:00:00\n",
      "Collecting branca>=0.6.0\n",
      "  Downloading branca-0.8.1-py3-none-any.whl (26 kB)\n",
      "Requirement already satisfied: numpy in c:\\users\\natha\\anaconda3\\lib\\site-packages (from folium) (1.24.2)\n",
      "Requirement already satisfied: jinja2>=2.9 in c:\\users\\natha\\anaconda3\\lib\\site-packages (from folium) (3.1.2)\n",
      "Requirement already satisfied: requests in c:\\users\\natha\\anaconda3\\lib\\site-packages (from folium) (2.28.1)\n",
      "Collecting xyzservices\n",
      "  Downloading xyzservices-2025.4.0-py3-none-any.whl (90 kB)\n",
      "     ---------------------------------------- 0.0/90.4 kB ? eta -:--:--\n",
      "     ---------------------------------------- 90.4/90.4 kB 5.0 MB/s eta 0:00:00\n",
      "Requirement already satisfied: MarkupSafe>=2.0 in c:\\users\\natha\\anaconda3\\lib\\site-packages (from jinja2>=2.9->folium) (2.1.1)\n",
      "Requirement already satisfied: urllib3<1.27,>=1.21.1 in c:\\users\\natha\\anaconda3\\lib\\site-packages (from requests->folium) (1.26.14)\n",
      "Requirement already satisfied: certifi>=2017.4.17 in c:\\users\\natha\\anaconda3\\lib\\site-packages (from requests->folium) (2022.12.7)\n",
      "Requirement already satisfied: idna<4,>=2.5 in c:\\users\\natha\\anaconda3\\lib\\site-packages (from requests->folium) (3.4)\n",
      "Requirement already satisfied: charset-normalizer<3,>=2 in c:\\users\\natha\\anaconda3\\lib\\site-packages (from requests->folium) (2.0.4)\n",
      "Installing collected packages: xyzservices, branca, folium\n",
      "Successfully installed branca-0.8.1 folium-0.19.5 xyzservices-2025.4.0\n",
      "Note: you may need to restart the kernel to use updated packages.\n"
     ]
    }
   ],
   "source": [
    "pip install folium\n"
   ]
  },
  {
   "cell_type": "code",
   "execution_count": 1,
   "id": "549baaff",
   "metadata": {},
   "outputs": [
    {
     "name": "stdout",
     "output_type": "stream",
     "text": [
      "       latitude  longitude\n",
      "0      5.760347  45.154316\n",
      "1      5.759826  45.154046\n",
      "2      5.759981  45.154020\n",
      "3      5.760057  45.153860\n",
      "4      5.760020  45.153922\n",
      "...         ...        ...\n",
      "31238  5.711717  45.193945\n",
      "31239  5.711590  45.193915\n",
      "31240  5.711487  45.194140\n",
      "31241  5.711786  45.193965\n",
      "31242  5.711336  45.194467\n",
      "\n",
      "[31243 rows x 2 columns]\n"
     ]
    }
   ],
   "source": [
    "import pandas as pd\n",
    "import csv\n",
    "import json\n",
    "df = pd.read_csv('data/trees.csv')\n",
    "\n",
    "df['coordinates']=df[\"GeoJSON\"].apply(lambda x : json.loads(x)['coordinates']) #json \"\"transforme\"\" un texte en dictionnaire sur python\n",
    "df[[\"latitude\",\"longitude\"]]=pd.DataFrame(df[\"coordinates\"].tolist()) #on transforme df['coordinates'] en liste car sinon voit une colonne de liste\n",
    "coordonnees = df[[\"latitude\", \"longitude\"]]\n",
    "print(coordonnees)"
   ]
  },
  {
   "cell_type": "code",
   "execution_count": 2,
   "id": "180dc3c8",
   "metadata": {},
   "outputs": [
    {
     "data": {
      "text/plain": [
       "<folium.map.Marker at 0x1a578c1da00>"
      ]
     },
     "execution_count": 2,
     "metadata": {},
     "output_type": "execute_result"
    }
   ],
   "source": [
    "import folium \n",
    "\n",
    "#ma_carte = folium.Map(location = [coordonnees[\"longitude\"].iloc[0],coordonnees[\"latitude\"].iloc[0]],zoom_start=12) #iloc[0] car besoin d'un point de départ\n",
    "\n",
    "ma_carte = folium.Map(location = [45.183266865243645, 5.722250556378179], zoom_start=12)\n",
    "\n",
    "folium.Marker([45.183266865243645, 5.722250556378179],popup=\"chez moi\").add_to(ma_carte)\n",
    "#for _, row in coordonnees.iterrows():\n",
    " #   folium.Marker([row[\"longitude\"],row[\"latitude\"]]).add_to(ma_carte)\n",
    "    \n",
    "    \n",
    "#ne pas faire tourner la boucle for---> bug\n"
   ]
  },
  {
   "cell_type": "code",
   "execution_count": 3,
   "id": "9f85e3da",
   "metadata": {},
   "outputs": [
    {
     "data": {
      "text/html": [
       "<div style=\"width:100%;\"><div style=\"position:relative;width:100%;height:0;padding-bottom:60%;\"><span style=\"color:#565656\">Make this Notebook Trusted to load map: File -> Trust Notebook</span><iframe srcdoc=\"&lt;!DOCTYPE html&gt;\n",
       "&lt;html&gt;\n",
       "&lt;head&gt;\n",
       "    \n",
       "    &lt;meta http-equiv=&quot;content-type&quot; content=&quot;text/html; charset=UTF-8&quot; /&gt;\n",
       "    \n",
       "        &lt;script&gt;\n",
       "            L_NO_TOUCH = false;\n",
       "            L_DISABLE_3D = false;\n",
       "        &lt;/script&gt;\n",
       "    \n",
       "    &lt;style&gt;html, body {width: 100%;height: 100%;margin: 0;padding: 0;}&lt;/style&gt;\n",
       "    &lt;style&gt;#map {position:absolute;top:0;bottom:0;right:0;left:0;}&lt;/style&gt;\n",
       "    &lt;script src=&quot;https://cdn.jsdelivr.net/npm/leaflet@1.9.3/dist/leaflet.js&quot;&gt;&lt;/script&gt;\n",
       "    &lt;script src=&quot;https://code.jquery.com/jquery-3.7.1.min.js&quot;&gt;&lt;/script&gt;\n",
       "    &lt;script src=&quot;https://cdn.jsdelivr.net/npm/bootstrap@5.2.2/dist/js/bootstrap.bundle.min.js&quot;&gt;&lt;/script&gt;\n",
       "    &lt;script src=&quot;https://cdnjs.cloudflare.com/ajax/libs/Leaflet.awesome-markers/2.0.2/leaflet.awesome-markers.js&quot;&gt;&lt;/script&gt;\n",
       "    &lt;link rel=&quot;stylesheet&quot; href=&quot;https://cdn.jsdelivr.net/npm/leaflet@1.9.3/dist/leaflet.css&quot;/&gt;\n",
       "    &lt;link rel=&quot;stylesheet&quot; href=&quot;https://cdn.jsdelivr.net/npm/bootstrap@5.2.2/dist/css/bootstrap.min.css&quot;/&gt;\n",
       "    &lt;link rel=&quot;stylesheet&quot; href=&quot;https://netdna.bootstrapcdn.com/bootstrap/3.0.0/css/bootstrap-glyphicons.css&quot;/&gt;\n",
       "    &lt;link rel=&quot;stylesheet&quot; href=&quot;https://cdn.jsdelivr.net/npm/@fortawesome/fontawesome-free@6.2.0/css/all.min.css&quot;/&gt;\n",
       "    &lt;link rel=&quot;stylesheet&quot; href=&quot;https://cdnjs.cloudflare.com/ajax/libs/Leaflet.awesome-markers/2.0.2/leaflet.awesome-markers.css&quot;/&gt;\n",
       "    &lt;link rel=&quot;stylesheet&quot; href=&quot;https://cdn.jsdelivr.net/gh/python-visualization/folium/folium/templates/leaflet.awesome.rotate.min.css&quot;/&gt;\n",
       "    \n",
       "            &lt;meta name=&quot;viewport&quot; content=&quot;width=device-width,\n",
       "                initial-scale=1.0, maximum-scale=1.0, user-scalable=no&quot; /&gt;\n",
       "            &lt;style&gt;\n",
       "                #map_529bc5cb51dabff86b42e29eb00f1822 {\n",
       "                    position: relative;\n",
       "                    width: 100.0%;\n",
       "                    height: 100.0%;\n",
       "                    left: 0.0%;\n",
       "                    top: 0.0%;\n",
       "                }\n",
       "                .leaflet-container { font-size: 1rem; }\n",
       "            &lt;/style&gt;\n",
       "        \n",
       "&lt;/head&gt;\n",
       "&lt;body&gt;\n",
       "    \n",
       "    \n",
       "            &lt;div class=&quot;folium-map&quot; id=&quot;map_529bc5cb51dabff86b42e29eb00f1822&quot; &gt;&lt;/div&gt;\n",
       "        \n",
       "&lt;/body&gt;\n",
       "&lt;script&gt;\n",
       "    \n",
       "    \n",
       "            var map_529bc5cb51dabff86b42e29eb00f1822 = L.map(\n",
       "                &quot;map_529bc5cb51dabff86b42e29eb00f1822&quot;,\n",
       "                {\n",
       "                    center: [45.183266865243645, 5.722250556378179],\n",
       "                    crs: L.CRS.EPSG3857,\n",
       "                    ...{\n",
       "  &quot;zoom&quot;: 12,\n",
       "  &quot;zoomControl&quot;: true,\n",
       "  &quot;preferCanvas&quot;: false,\n",
       "}\n",
       "\n",
       "                }\n",
       "            );\n",
       "\n",
       "            \n",
       "\n",
       "        \n",
       "    \n",
       "            var tile_layer_512cf0a3a0cfb6eae044565c0c55a040 = L.tileLayer(\n",
       "                &quot;https://tile.openstreetmap.org/{z}/{x}/{y}.png&quot;,\n",
       "                {\n",
       "  &quot;minZoom&quot;: 0,\n",
       "  &quot;maxZoom&quot;: 19,\n",
       "  &quot;maxNativeZoom&quot;: 19,\n",
       "  &quot;noWrap&quot;: false,\n",
       "  &quot;attribution&quot;: &quot;\\u0026copy; \\u003ca href=\\&quot;https://www.openstreetmap.org/copyright\\&quot;\\u003eOpenStreetMap\\u003c/a\\u003e contributors&quot;,\n",
       "  &quot;subdomains&quot;: &quot;abc&quot;,\n",
       "  &quot;detectRetina&quot;: false,\n",
       "  &quot;tms&quot;: false,\n",
       "  &quot;opacity&quot;: 1,\n",
       "}\n",
       "\n",
       "            );\n",
       "        \n",
       "    \n",
       "            tile_layer_512cf0a3a0cfb6eae044565c0c55a040.addTo(map_529bc5cb51dabff86b42e29eb00f1822);\n",
       "        \n",
       "    \n",
       "            var marker_2c342eabad60bde6be958bd7f65a1ff3 = L.marker(\n",
       "                [45.183266865243645, 5.722250556378179],\n",
       "                {\n",
       "}\n",
       "            ).addTo(map_529bc5cb51dabff86b42e29eb00f1822);\n",
       "        \n",
       "    \n",
       "        var popup_f9ac2f378db3320b6568b7e409c89cd1 = L.popup({\n",
       "  &quot;maxWidth&quot;: &quot;100%&quot;,\n",
       "});\n",
       "\n",
       "        \n",
       "            \n",
       "                var html_a2278b65c9a1c0260cdf9d186b88328c = $(`&lt;div id=&quot;html_a2278b65c9a1c0260cdf9d186b88328c&quot; style=&quot;width: 100.0%; height: 100.0%;&quot;&gt;chez moi&lt;/div&gt;`)[0];\n",
       "                popup_f9ac2f378db3320b6568b7e409c89cd1.setContent(html_a2278b65c9a1c0260cdf9d186b88328c);\n",
       "            \n",
       "        \n",
       "\n",
       "        marker_2c342eabad60bde6be958bd7f65a1ff3.bindPopup(popup_f9ac2f378db3320b6568b7e409c89cd1)\n",
       "        ;\n",
       "\n",
       "        \n",
       "    \n",
       "&lt;/script&gt;\n",
       "&lt;/html&gt;\" style=\"position:absolute;width:100%;height:100%;left:0;top:0;border:none !important;\" allowfullscreen webkitallowfullscreen mozallowfullscreen></iframe></div></div>"
      ],
      "text/plain": [
       "<folium.folium.Map at 0x1a55722eeb0>"
      ]
     },
     "execution_count": 3,
     "metadata": {},
     "output_type": "execute_result"
    }
   ],
   "source": [
    "ma_carte"
   ]
  },
  {
   "cell_type": "code",
   "execution_count": 30,
   "id": "1f8ca822",
   "metadata": {},
   "outputs": [
    {
     "name": "stdout",
     "output_type": "stream",
     "text": [
      "0.0648323777415836 km\n"
     ]
    }
   ],
   "source": [
    "#calculer la distance entre deux arbres \n",
    "\n",
    "#1) avec geopy\n",
    "\n",
    "import geopy\n",
    "\n",
    "from geopy.distance import geodesic\n",
    "cinqpremcoord = list(coordonnees.head().itertuples(index = False, name = None))\n",
    "print(geodesic(cinqpremcoord[0],cinqpremcoord[1]))"
   ]
  },
  {
   "cell_type": "code",
   "execution_count": 27,
   "id": "eebc2a16",
   "metadata": {},
   "outputs": [
    {
     "name": "stdout",
     "output_type": "stream",
     "text": [
      "Collecting haversine\n",
      "  Downloading haversine-2.9.0-py2.py3-none-any.whl (7.7 kB)\n",
      "Installing collected packages: haversine\n",
      "Successfully installed haversine-2.9.0\n",
      "Note: you may need to restart the kernel to use updated packages.\n"
     ]
    }
   ],
   "source": [
    "pip install haversine"
   ]
  },
  {
   "cell_type": "code",
   "execution_count": 34,
   "id": "1052fa38",
   "metadata": {},
   "outputs": [
    {
     "data": {
      "text/plain": [
       "0.0650984399412751"
      ]
     },
     "execution_count": 34,
     "metadata": {},
     "output_type": "execute_result"
    }
   ],
   "source": [
    "#en utilisant haversine\n",
    "\n",
    "from haversine import haversine\n",
    "\n",
    "haversine(cinqpremcoord[0],cinqpremcoord[1])"
   ]
  },
  {
   "cell_type": "code",
   "execution_count": 53,
   "id": "dde3411a",
   "metadata": {},
   "outputs": [
    {
     "name": "stdout",
     "output_type": "stream",
     "text": [
      "les 10 arbres les plus proches de chez moi sont à [[21.863634660642084, 22.181273485973907, 27.709144358733415, 29.034945639632262, 29.57573192180633, 33.907353401769704, 38.05995234466653, 38.97107977413928, 39.01837430319969, 39.76776834986881]] de chez moi\n"
     ]
    }
   ],
   "source": [
    "#quels sont les 10 arbres les plus proches de chez vous\n",
    "\n",
    "coordonnee_en_tuples=list(coordonnees.itertuples(index=False,name=None))\n",
    "chezmoi = (5.722250556378179,45.183266865243645)\n",
    "arbres_distance = []\n",
    "\n",
    "for tupl in coordonnee_en_tuples:\n",
    "    arbres_distance.append(geodesic(chezmoi,tupl).meters)\n",
    "    \n",
    "arbres_km_de_chez_moi= sorted(arbres_distance, reverse=False)\n",
    "\n",
    "print(f\"les 10 arbres les plus proches de chez moi sont à {[arbres_km_de_chez_moi[0:10]]} de chez moi\")\n"
   ]
  },
  {
   "cell_type": "code",
   "execution_count": 76,
   "id": "6630a2e7",
   "metadata": {},
   "outputs": [
    {
     "name": "stdout",
     "output_type": "stream",
     "text": [
      "il y a une distance moyenne de 3.1178417432228787km entre les arbres\n"
     ]
    }
   ],
   "source": [
    "#quelle est la distance moyenne entre les arbres? \n",
    "\n",
    "#beaucoup trop de calculs à faire, je prends que les 50 premiers arbres\n",
    "\n",
    "cinquantespremiersarbres = list(coordonnees.head(50).itertuples(index=False,name=None))\n",
    "\n",
    "#print(cinquantespremiersarbres)\n",
    "\n",
    "distance_entre_arbres = []\n",
    "\n",
    "\n",
    "for i, tupl1 in enumerate(cinquantespremiersarbres):\n",
    "    for j, tupl in enumerate(cinquantespremiersarbres):\n",
    "        if j>i:\n",
    "            distance_entre_arbres.append(geodesic(tupl1, tupl).kilometers)\n",
    "        \n",
    "print(f\"il y a une distance moyenne de {sum(distance_entre_arbres)/len(distance_entre_arbres)}km entre les arbres\")"
   ]
  },
  {
   "cell_type": "code",
   "execution_count": null,
   "id": "88c30bad",
   "metadata": {},
   "outputs": [],
   "source": []
  }
 ],
 "metadata": {
  "kernelspec": {
   "display_name": "Python 3 (ipykernel)",
   "language": "python",
   "name": "python3"
  },
  "language_info": {
   "codemirror_mode": {
    "name": "ipython",
    "version": 3
   },
   "file_extension": ".py",
   "mimetype": "text/x-python",
   "name": "python",
   "nbconvert_exporter": "python",
   "pygments_lexer": "ipython3",
   "version": "3.9.13"
  }
 },
 "nbformat": 4,
 "nbformat_minor": 5
}
